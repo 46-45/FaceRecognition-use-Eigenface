{
  "nbformat": 4,
  "nbformat_minor": 0,
  "metadata": {
    "colab": {
      "provenance": []
    },
    "kernelspec": {
      "name": "python3",
      "display_name": "Python 3"
    },
    "language_info": {
      "name": "python"
    }
  },
  "cells": [
    {
      "cell_type": "code",
      "execution_count": null,
      "metadata": {
        "id": "8c7mQJvUyA0G"
      },
      "outputs": [],
      "source": [
        "import numpy as np\n",
        "import matplotlib.pyplot as plt\n",
        "import cv2\n",
        "import os\n",
        "import pickle\n",
        "from google.colab import drive\n",
        "from google.colab.patches import cv2_imshow"
      ]
    },
    {
      "cell_type": "code",
      "source": [
        "drive.mount('/content/drive')"
      ],
      "metadata": {
        "id": "MnXYGdtwyRN9",
        "outputId": "50931ba7-1e1c-4e10-8e60-4c285e203374",
        "colab": {
          "base_uri": "https://localhost:8080/"
        }
      },
      "execution_count": null,
      "outputs": [
        {
          "output_type": "stream",
          "name": "stdout",
          "text": [
            "Drive already mounted at /content/drive; to attempt to forcibly remount, call drive.mount(\"/content/drive\", force_remount=True).\n"
          ]
        }
      ]
    },
    {
      "cell_type": "code",
      "source": [
        "def load_images_from_folder(folder):\n",
        "    images = []\n",
        "    for filename in os.listdir(folder):\n",
        "        path = os.path.join(folder, filename)\n",
        "        if os.path.isdir(path):\n",
        "            images.extend(load_images_from_folder(path))\n",
        "        else:\n",
        "            img = cv2.imread(path, cv2.IMREAD_GRAYSCALE)\n",
        "            if img is not None:\n",
        "                images.append(img)\n",
        "    return images"
      ],
      "metadata": {
        "id": "pamApjmNLi9q"
      },
      "execution_count": null,
      "outputs": []
    },
    {
      "cell_type": "code",
      "source": [
        "def normalize_images(images):\n",
        "    normalized_images = []\n",
        "    for img in images:\n",
        "        resized_img = cv2.resize(img, (100, 100))  # Resize the image to 100x100\n",
        "        normalized_img = resized_img.flatten() / 255.0  # Normalize pixel values to the range of 0-1\n",
        "        normalized_images.append(normalized_img)\n",
        "    return normalized_images"
      ],
      "metadata": {
        "id": "V4SF6QF0Lkei"
      },
      "execution_count": null,
      "outputs": []
    },
    {
      "cell_type": "code",
      "source": [
        "def calculate_mean(images):\n",
        "    mean_image = np.mean(images, axis=0)\n",
        "    return mean_image"
      ],
      "metadata": {
        "id": "TIfSFzKpLkjg"
      },
      "execution_count": null,
      "outputs": []
    },
    {
      "cell_type": "code",
      "source": [
        "def subtract_mean(images, mean_image):\n",
        "    subtracted_images = []\n",
        "    for img in images:\n",
        "        subtracted_img = img - mean_image\n",
        "        subtracted_images.append(subtracted_img)\n",
        "    return subtracted_images"
      ],
      "metadata": {
        "id": "9WCZXnCrLkmX"
      },
      "execution_count": null,
      "outputs": []
    },
    {
      "cell_type": "code",
      "source": [
        "def calculate_covariance_matrix(images):\n",
        "    X = np.array(images)\n",
        "    covariance_matrix = np.cov(X.T)\n",
        "    return covariance_matrix"
      ],
      "metadata": {
        "id": "lvB6uvstLkpY"
      },
      "execution_count": null,
      "outputs": []
    },
    {
      "cell_type": "code",
      "source": [
        "def calculate_eigenfaces(covariance_matrix):\n",
        "    eigenvalues, eigenvectors = np.linalg.eigh(covariance_matrix)\n",
        "    idx = np.argsort(eigenvalues)[::-1]  # Sort eigenvalues in descending order\n",
        "    eigenvalues = eigenvalues[idx]\n",
        "    eigenvectors = eigenvectors[:, idx]\n",
        "    return eigenvalues, eigenvectors"
      ],
      "metadata": {
        "id": "1WQ72amELksV"
      },
      "execution_count": null,
      "outputs": []
    },
    {
      "cell_type": "code",
      "source": [
        "def reduce_dimension(images, eigenvectors, num_components):\n",
        "    reduced_images = []\n",
        "    for img in images:\n",
        "        reduced_img = np.dot(eigenvectors[:, :num_components].T, img)\n",
        "        reduced_images.append(reduced_img)\n",
        "    return reduced_images"
      ],
      "metadata": {
        "id": "6LWLR-OuLkvM"
      },
      "execution_count": null,
      "outputs": []
    },
    {
      "cell_type": "code",
      "source": [
        "dataset_folder = '/content/drive/My Drive/TugasAkhir/datasetwajah/dataset'\n",
        "model_path = '/content/drive/My Drive/TugasAkhir/datasetwajah/model.pkl'"
      ],
      "metadata": {
        "id": "k_ultMnWLkyE"
      },
      "execution_count": null,
      "outputs": []
    },
    {
      "cell_type": "code",
      "source": [
        "# Load model dari file jika sudah ada\n",
        "if os.path.exists(model_path):\n",
        "    with open(model_path, 'rb') as f:\n",
        "        model = pickle.load(f)\n",
        "else:\n",
        "    images = load_images_from_folder(dataset_folder)\n",
        "    normalized_images = normalize_images(images)\n",
        "\n",
        "    mean_image = calculate_mean(normalized_images)\n",
        "    subtracted_images = subtract_mean(normalized_images, mean_image)\n",
        "\n",
        "    covariance_matrix = calculate_covariance_matrix(subtracted_images)\n",
        "\n",
        "    eigenvalues, eigenvectors = calculate_eigenfaces(covariance_matrix)\n",
        "\n",
        "    num_components = 10\n",
        "    reduced_images = reduce_dimension(subtracted_images, eigenvectors, num_components)\n",
        "\n",
        "    labels = []  # List of class labels for each face image\n",
        "    for root, dirs, files in os.walk(dataset_folder):\n",
        "        if len(files) > 0:\n",
        "            label = root.split('/')[-1]  # Extract the class label from the folder path\n",
        "            labels.extend([label] * len(files))\n",
        "\n",
        "    X_train = np.array(reduced_images)\n",
        "    y_train = np.array(labels)\n",
        "\n",
        "    # Simpan model ke file\n",
        "    model = {\n",
        "        'mean_image': mean_image,\n",
        "        'eigenvectors': eigenvectors,\n",
        "        'num_components': num_components,\n",
        "        'X_train': X_train,\n",
        "        'y_train': y_train\n",
        "    }\n",
        "    with open(model_path, 'wb') as f:\n",
        "        pickle.dump(model, f)\n",
        "\n",
        "mean_image = model['mean_image']\n",
        "eigenvectors = model['eigenvectors']\n",
        "num_components = model['num_components']\n",
        "X_train = model['X_train']\n",
        "y_train = model['y_train']"
      ],
      "metadata": {
        "id": "VfoxjfVHLk1O"
      },
      "execution_count": null,
      "outputs": []
    },
    {
      "cell_type": "code",
      "source": [
        "test_image_path = '/content/drive/My Drive/TugasAkhir/datasetwajah/test1.jpg'\n",
        "test_image = cv2.imread(test_image_path)\n",
        "gray_test_image = cv2.cvtColor(test_image, cv2.COLOR_BGR2GRAY)\n",
        "normalized_test_image = cv2.resize(gray_test_image, (100, 100)).flatten() / 255.0\n",
        "subtracted_test_image = normalized_test_image - mean_image\n",
        "reduced_test_image = np.dot(eigenvectors[:, :num_components].T, subtracted_test_image)\n",
        "\n",
        "# Display the grayscale test image\n",
        "plt.imshow(gray_test_image, cmap='gray')\n",
        "plt.title('Grayscale Test Image')\n",
        "plt.axis('off')\n",
        "plt.show()"
      ],
      "metadata": {
        "colab": {
          "base_uri": "https://localhost:8080/",
          "height": 428
        },
        "id": "KztyTULXLk4H",
        "outputId": "60be7ed8-fd42-413f-d1a1-a183269b7748"
      },
      "execution_count": null,
      "outputs": [
        {
          "output_type": "display_data",
          "data": {
            "text/plain": [
              "<Figure size 640x480 with 1 Axes>"
            ],
            "image/png": "[encoded data removed]"
          },
          "metadata": {}
        }
      ]
    },
    {
      "cell_type": "code",
      "source": [
        "distances = np.linalg.norm(X_train - reduced_test_image, axis=1)\n",
        "\n",
        "min_distance_index = np.argmin(distances)\n",
        "\n",
        "prediction = y_train[min_distance_index]\n",
        "\n",
        "print(\"Prediction:\", prediction)"
      ],
      "metadata": {
        "colab": {
          "base_uri": "https://localhost:8080/"
        },
        "id": "-Hm9rdePMkEh",
        "outputId": "d3cdb306-4bba-469f-c24d-0da773e99a2c"
      },
      "execution_count": null,
      "outputs": [
        {
          "output_type": "stream",
          "name": "stdout",
          "text": [
            "Prediction: Anggun\n"
          ]
        }
      ]
    }
  ]
}